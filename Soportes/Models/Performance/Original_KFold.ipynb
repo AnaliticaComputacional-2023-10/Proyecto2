{
 "cells": [
  {
   "cell_type": "markdown",
   "metadata": {},
   "source": [
    "# Proyecto 2\n",
    "\n",
    "**Tema:** Predicción de enfermedades Cardíacas\n",
    "\n",
    "\n",
    "|     Nombres      |      Apellidos       |     Login     |  Codigo   |\n",
    "| :--------------: | :------------------: | :-----------: | :-------: |\n",
    "|     Santiago     | Gonzalez Montealegre | s.gonzalez35  | 202012274 |\n",
    "| Juliana Carolina |  Cardenas Barragan   | jc.cardenasb1 | 202011683 |\n"
   ]
  },
  {
   "attachments": {},
   "cell_type": "markdown",
   "metadata": {},
   "source": [
    "## Medidas de Desempeño - Original"
   ]
  },
  {
   "cell_type": "markdown",
   "metadata": {},
   "source": [
    "## K-Fold Cross Validation"
   ]
  },
  {
   "cell_type": "markdown",
   "metadata": {},
   "source": [
    "## Librerías Requeridas"
   ]
  },
  {
   "cell_type": "code",
   "execution_count": 28,
   "metadata": {},
   "outputs": [],
   "source": [
    "import pandas as pd\n",
    "from pgmpy.models import BayesianNetwork\n",
    "from pgmpy.estimators import MaximumLikelihoodEstimator\n",
    "from pgmpy.inference import VariableElimination\n",
    "from sklearn.model_selection import KFold\n",
    "import matplotlib.pyplot as plt"
   ]
  },
  {
   "cell_type": "markdown",
   "metadata": {},
   "source": [
    "## Carga de Datos"
   ]
  },
  {
   "cell_type": "code",
   "execution_count": 2,
   "metadata": {},
   "outputs": [],
   "source": [
    "df = pd.read_csv(\"../../../Data/Transformed/Discrete.csv\")"
   ]
  },
  {
   "attachments": {},
   "cell_type": "markdown",
   "metadata": {},
   "source": [
    "## K-Fold"
   ]
  },
  {
   "cell_type": "code",
   "execution_count": 3,
   "metadata": {},
   "outputs": [],
   "source": [
    "variables = [column for column in list(df.columns) if column != 'heartdis']\n",
    "\n",
    "X = df[variables].values\n",
    "y = df['heartdis'].values\n",
    "\n",
    "kf = KFold(n_splits=4, shuffle=True, random_state=1)\n",
    "\n",
    "splits = list(kf.split(X))"
   ]
  },
  {
   "attachments": {},
   "cell_type": "markdown",
   "metadata": {},
   "source": [
    "## Test"
   ]
  },
  {
   "cell_type": "code",
   "execution_count": 4,
   "metadata": {},
   "outputs": [],
   "source": [
    "def inferenceEvidence(evidence, model):\n",
    "    \n",
    "    infer = VariableElimination(model)\n",
    "\n",
    "    prob = infer.query(variables=['heartdis'], evidence=evidence)\n",
    "    \n",
    "    return prob.values.tolist()"
   ]
  },
  {
   "cell_type": "code",
   "execution_count": 5,
   "metadata": {},
   "outputs": [],
   "source": [
    "def getEvidence(nodes, row):\n",
    "    \n",
    "    evidence = {}\n",
    "    for node in nodes:\n",
    "        if node != 'heartdis':\n",
    "            evidence[node] = (row[node])\n",
    "    \n",
    "    return evidence"
   ]
  },
  {
   "cell_type": "code",
   "execution_count": 6,
   "metadata": {},
   "outputs": [],
   "source": [
    "def getClassification(probs):\n",
    "    cero = probs[0]\n",
    "    one = probs[1]\n",
    "    if cero >= one:\n",
    "        result = 0\n",
    "    else:\n",
    "        result = 1\n",
    "        \n",
    "    return result"
   ]
  },
  {
   "cell_type": "code",
   "execution_count": 7,
   "metadata": {},
   "outputs": [],
   "source": [
    "def getMetrics(df_test):\n",
    "    \n",
    "    # confussion_matrix = [[None, None],[None, None]]\n",
    "    \n",
    "    metrics = {'TN': None, 'FP': None, 'FN': None, 'TP': None}\n",
    "    \n",
    "    df_needed = df_test[['heartdis', 'test']]\n",
    "    \n",
    "    true_negatives_df = df_needed[(df_needed['heartdis'] == df_needed['test']) & (df_needed['test'] == 0)]\n",
    "    true_negatives = true_negatives_df['test'].count()\n",
    "    \n",
    "    false_positives_df = df_needed[(df_needed['heartdis'] != df_needed['test']) & (df_needed['test'] == 1)]\n",
    "    false_positives = false_positives_df['test'].count()\n",
    "    \n",
    "    false_negatives_df = df_needed[(df_needed['heartdis'] != df_needed['test']) & (df_needed['test'] == 0)]\n",
    "    false_negatives = false_negatives_df['test'].count()\n",
    "    \n",
    "    \n",
    "    true_positives_df = df_needed[(df_needed['heartdis'] == df_needed['test']) & (df_needed['test'] == 1)]\n",
    "    true_positives = true_positives_df['test'].count()\n",
    "    \n",
    "    metrics['TN'] = true_negatives\n",
    "    metrics['FP'] = false_positives\n",
    "    metrics['FN'] = false_negatives\n",
    "    metrics['TP'] = true_positives\n",
    "    \n",
    "    return metrics"
   ]
  },
  {
   "cell_type": "code",
   "execution_count": 8,
   "metadata": {},
   "outputs": [],
   "source": [
    "def trainModel(df_train):\n",
    "    model = BayesianNetwork(\n",
    "        [\n",
    "            ('age', 'ca'),\n",
    "            ('age', 'thalach'),\n",
    "            ('age', 'trestbps'),\n",
    "            ('sex', 'heartdis'),\n",
    "            ('sex', 'thal'),\n",
    "            ('slope', 'heartdis'),\n",
    "            ('slope', 'oldpeak'),\n",
    "            ('slope', 'thalach'),\n",
    "            ('ca', 'heartdis'),\n",
    "            ('exang', 'cp'),\n",
    "            ('exang', 'oldpeak'),\n",
    "            ('exang', 'thalach'),\n",
    "            ('thal', 'exang'),\n",
    "            ('thal', 'heartdis'),\n",
    "            ('thal', 'oldpeak'),\n",
    "            ('heartdis', 'cp'),\n",
    "            ('heartdis', 'oldpeak'),\n",
    "        ]\n",
    "    )\n",
    "\n",
    "    model.fit (\n",
    "        data=df_train,\n",
    "        estimator=MaximumLikelihoodEstimator,    \n",
    "    )\n",
    "    model.check_model()\n",
    "    \n",
    "    return model"
   ]
  },
  {
   "cell_type": "code",
   "execution_count": 9,
   "metadata": {},
   "outputs": [
    {
     "name": "stderr",
     "output_type": "stream",
     "text": [
      "c:\\Users\\SGM\\AppData\\Local\\Programs\\Python\\Python310\\lib\\site-packages\\pgmpy\\factors\\discrete\\DiscreteFactor.py:478: RuntimeWarning: invalid value encountered in divide\n",
      "  phi.values = phi.values / phi.values.sum()\n",
      "c:\\Users\\SGM\\AppData\\Local\\Programs\\Python\\Python310\\lib\\site-packages\\pgmpy\\factors\\discrete\\DiscreteFactor.py:478: RuntimeWarning: invalid value encountered in divide\n",
      "  phi.values = phi.values / phi.values.sum()\n",
      "c:\\Users\\SGM\\AppData\\Local\\Programs\\Python\\Python310\\lib\\site-packages\\pgmpy\\factors\\discrete\\DiscreteFactor.py:478: RuntimeWarning: invalid value encountered in divide\n",
      "  phi.values = phi.values / phi.values.sum()\n",
      "c:\\Users\\SGM\\AppData\\Local\\Programs\\Python\\Python310\\lib\\site-packages\\pgmpy\\factors\\discrete\\DiscreteFactor.py:478: RuntimeWarning: invalid value encountered in divide\n",
      "  phi.values = phi.values / phi.values.sum()\n"
     ]
    }
   ],
   "source": [
    "# Iterate over the K-Fold\n",
    "\n",
    "kfold_metrics = []\n",
    "for train_index, test_index in splits:\n",
    "    \n",
    "    # Get the Train and Test set\n",
    "    \n",
    "    X_train = X[train_index]\n",
    "    y_train = y[train_index]\n",
    "    \n",
    "    X_test = X[test_index]\n",
    "    y_test = y[test_index]\n",
    "    \n",
    "    df_train = pd.DataFrame(X_train, columns=variables)\n",
    "    df_train['heartdis'] = y_train\n",
    "\n",
    "    df_test = pd.DataFrame(X_test, columns=variables)\n",
    "    df_test['heartdis'] = y_test\n",
    "    \n",
    "    # Train the Model\n",
    "    \n",
    "    model = trainModel(df_train)\n",
    "    \n",
    "    nodes = model.nodes    \n",
    "    \n",
    "    # Test the model\n",
    "    \n",
    "    test = []\n",
    "    for i in range(0, len(df_test)):\n",
    "        row = df_test.iloc[i]\n",
    "        evidence = getEvidence(nodes=nodes, row=row)\n",
    "        probs = inferenceEvidence(evidence, model)\n",
    "        classification = getClassification(probs)\n",
    "        test.append(classification)\n",
    "\n",
    "    df_test['test'] = test\n",
    "    \n",
    "    metrics = getMetrics(df_test)\n",
    "    \n",
    "    kfold_metrics.append(metrics)\n",
    "\n",
    "df_performance = pd.DataFrame(kfold_metrics)\n",
    "\n",
    "df_performance['accuracy'] = (df_performance['TN'] + df_performance['TP']) / (df_performance['TN'] + df_performance['FP'] + df_performance['FN'] + df_performance['TP'])\n",
    "df_performance['precision'] = (df_performance['TP']) / (df_performance['FP'] + df_performance['TP'])\n",
    "df_performance['recall'] = (df_performance['TP']) / (df_performance['FN'] + df_performance['TP'])\n",
    "df_performance['f1_score'] = 2 * (df_performance['precision'] * df_performance['recall']) / (df_performance['precision'] + df_performance['recall'])\n",
    "df_performance['specificity'] = (df_performance['TN']) / (df_performance['TN'] + df_performance['FP'])"
   ]
  },
  {
   "cell_type": "code",
   "execution_count": 10,
   "metadata": {},
   "outputs": [
    {
     "data": {
      "text/html": [
       "<div>\n",
       "<style scoped>\n",
       "    .dataframe tbody tr th:only-of-type {\n",
       "        vertical-align: middle;\n",
       "    }\n",
       "\n",
       "    .dataframe tbody tr th {\n",
       "        vertical-align: top;\n",
       "    }\n",
       "\n",
       "    .dataframe thead th {\n",
       "        text-align: right;\n",
       "    }\n",
       "</style>\n",
       "<table border=\"1\" class=\"dataframe\">\n",
       "  <thead>\n",
       "    <tr style=\"text-align: right;\">\n",
       "      <th></th>\n",
       "      <th>TN</th>\n",
       "      <th>FP</th>\n",
       "      <th>FN</th>\n",
       "      <th>TP</th>\n",
       "      <th>accuracy</th>\n",
       "      <th>precision</th>\n",
       "      <th>recall</th>\n",
       "      <th>f1_score</th>\n",
       "      <th>specificity</th>\n",
       "    </tr>\n",
       "  </thead>\n",
       "  <tbody>\n",
       "    <tr>\n",
       "      <th>0</th>\n",
       "      <td>27</td>\n",
       "      <td>14</td>\n",
       "      <td>5</td>\n",
       "      <td>30</td>\n",
       "      <td>0.750000</td>\n",
       "      <td>0.681818</td>\n",
       "      <td>0.857143</td>\n",
       "      <td>0.759494</td>\n",
       "      <td>0.658537</td>\n",
       "    </tr>\n",
       "    <tr>\n",
       "      <th>1</th>\n",
       "      <td>39</td>\n",
       "      <td>6</td>\n",
       "      <td>11</td>\n",
       "      <td>20</td>\n",
       "      <td>0.776316</td>\n",
       "      <td>0.769231</td>\n",
       "      <td>0.645161</td>\n",
       "      <td>0.701754</td>\n",
       "      <td>0.866667</td>\n",
       "    </tr>\n",
       "    <tr>\n",
       "      <th>2</th>\n",
       "      <td>29</td>\n",
       "      <td>8</td>\n",
       "      <td>8</td>\n",
       "      <td>31</td>\n",
       "      <td>0.789474</td>\n",
       "      <td>0.794872</td>\n",
       "      <td>0.794872</td>\n",
       "      <td>0.794872</td>\n",
       "      <td>0.783784</td>\n",
       "    </tr>\n",
       "    <tr>\n",
       "      <th>3</th>\n",
       "      <td>31</td>\n",
       "      <td>10</td>\n",
       "      <td>10</td>\n",
       "      <td>24</td>\n",
       "      <td>0.733333</td>\n",
       "      <td>0.705882</td>\n",
       "      <td>0.705882</td>\n",
       "      <td>0.705882</td>\n",
       "      <td>0.756098</td>\n",
       "    </tr>\n",
       "  </tbody>\n",
       "</table>\n",
       "</div>"
      ],
      "text/plain": [
       "   TN  FP  FN  TP  accuracy  precision    recall  f1_score  specificity\n",
       "0  27  14   5  30  0.750000   0.681818  0.857143  0.759494     0.658537\n",
       "1  39   6  11  20  0.776316   0.769231  0.645161  0.701754     0.866667\n",
       "2  29   8   8  31  0.789474   0.794872  0.794872  0.794872     0.783784\n",
       "3  31  10  10  24  0.733333   0.705882  0.705882  0.705882     0.756098"
      ]
     },
     "execution_count": 10,
     "metadata": {},
     "output_type": "execute_result"
    }
   ],
   "source": [
    "df_performance"
   ]
  },
  {
   "cell_type": "code",
   "execution_count": 11,
   "metadata": {},
   "outputs": [
    {
     "name": "stdout",
     "output_type": "stream",
     "text": [
      "accuracy: \t 0.76\n",
      "precision: \t 0.74\n",
      "recall: \t 0.75\n",
      "f1_score: \t 0.74\n",
      "specificity: \t 0.77\n"
     ]
    }
   ],
   "source": [
    "accuracy = df_performance['accuracy'].mean()\n",
    "precision = df_performance['precision'].mean()\n",
    "recall = df_performance['recall'].mean()\n",
    "f1_score = df_performance['f1_score'].mean()\n",
    "specificity = df_performance['specificity'].mean()\n",
    "\n",
    "print(f'accuracy: \\t {round(accuracy, 2)}')\n",
    "print(f'precision: \\t {round(precision, 2)}')\n",
    "print(f'recall: \\t {round(recall, 2)}')\n",
    "print(f'f1_score: \\t {round(f1_score, 2)}')\n",
    "print(f'specificity: \\t {round(specificity, 2)}')"
   ]
  },
  {
   "cell_type": "code",
   "execution_count": 56,
   "metadata": {},
   "outputs": [
    {
     "data": {
      "image/png": "[encoded data removed]",
      "text/plain": [
       "<Figure size 432x288 with 1 Axes>"
      ]
     },
     "metadata": {
      "needs_background": "light"
     },
     "output_type": "display_data"
    }
   ],
   "source": [
    "# Create plot\n",
    "fig, ax =plt.subplots()\n",
    "\n",
    "# Ax limits\n",
    "plt.xlim(0, 1)\n",
    "plt.ylim(0, 1)\n",
    "\n",
    "# Lines for guide\n",
    "ax.axvline(x=0.5, color='silver', linestyle='--')\n",
    "ax.axhline(y=0.5, color='silver', linestyle='--')\n",
    "x = [0, 1]\n",
    "y = [0, 1]\n",
    "ax.plot(x, y, color='silver', linestyle='--')\n",
    "\n",
    "ax.scatter(1-specificity, recall)\n",
    "\n",
    "plt.xlabel(\"1 - Specificity\")\n",
    "plt.ylabel(\"Recall\")\n",
    "plt.show()"
   ]
  },
  {
   "cell_type": "code",
   "execution_count": 60,
   "metadata": {},
   "outputs": [
    {
     "data": {
      "image/png": "[encoded data removed]",
      "text/plain": [
       "<Figure size 432x288 with 1 Axes>"
      ]
     },
     "metadata": {
      "needs_background": "light"
     },
     "output_type": "display_data"
    }
   ],
   "source": [
    "# Create plot\n",
    "fig, ax =plt.subplots()\n",
    "\n",
    "# Ax limits\n",
    "plt.xlim(0, 1)\n",
    "plt.ylim(0, 1)\n",
    "\n",
    "# Lines for guide\n",
    "ax.axvline(x=0.5, color='silver', linestyle='--')\n",
    "ax.axhline(y=0.5, color='silver', linestyle='--')\n",
    "x = [0, 1]\n",
    "y = [1, 0]\n",
    "ax.plot(x, y, color='silver', linestyle='--')\n",
    "\n",
    "ax.scatter(specificity, recall)\n",
    "\n",
    "plt.xlabel(\"Specificity\")\n",
    "plt.ylabel(\"Recall\")\n",
    "plt.show()"
   ]
  }
 ],
 "metadata": {
  "kernelspec": {
   "display_name": "Python 3",
   "language": "python",
   "name": "python3"
  },
  "language_info": {
   "codemirror_mode": {
    "name": "ipython",
    "version": 3
   },
   "file_extension": ".py",
   "mimetype": "text/x-python",
   "name": "python",
   "nbconvert_exporter": "python",
   "pygments_lexer": "ipython3",
   "version": "3.10.6"
  },
  "orig_nbformat": 4
 },
 "nbformat": 4,
 "nbformat_minor": 2
}
