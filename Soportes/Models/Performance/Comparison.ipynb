{
 "cells": [
  {
   "attachments": {},
   "cell_type": "markdown",
   "metadata": {},
   "source": [
    "# Proyecto 2\n",
    "\n",
    "**Tema:** Predicción de enfermedades Cardíacas\n",
    "\n",
    "\n",
    "|     Nombres      |      Apellidos       |     Login     |  Codigo   |\n",
    "| :--------------: | :------------------: | :-----------: | :-------: |\n",
    "|     Santiago     | Gonzalez Montealegre | s.gonzalez35  | 202012274 |\n",
    "| Juliana Carolina |  Cardenas Barragan   | jc.cardenasb1 | 202011683 |\n"
   ]
  },
  {
   "attachments": {},
   "cell_type": "markdown",
   "metadata": {},
   "source": [
    "## Medidas de Desempeño - Comparación de Modelos"
   ]
  },
  {
   "attachments": {},
   "cell_type": "markdown",
   "metadata": {},
   "source": [
    "## Librerías Requeridas"
   ]
  },
  {
   "cell_type": "code",
   "execution_count": 2,
   "metadata": {},
   "outputs": [],
   "source": [
    "import pandas as pd\n",
    "import matplotlib.pyplot as plt"
   ]
  },
  {
   "attachments": {},
   "cell_type": "markdown",
   "metadata": {},
   "source": [
    "## Resumen"
   ]
  },
  {
   "cell_type": "code",
   "execution_count": 5,
   "metadata": {},
   "outputs": [],
   "source": [
    "original_model = {\n",
    "    'accuracy': 0.76,\n",
    "    'precision': 0.74,\n",
    "    'recall': 0.75,\n",
    "    'f1_score': 0.74,\n",
    "    'specificity': 0.77,\n",
    "}\n",
    "\n",
    "restrictions_model = {\n",
    "    'accuracy': 0.75,\n",
    "    'precision': 0.76,\n",
    "    'recall': 0.67,\n",
    "    'f1_score': 0.7,\n",
    "    'specificity': 0.8,\n",
    "}\n",
    "\n",
    "k2score_model = {\n",
    "    'accuracy': 0.79,\n",
    "    'precision': 0.75,\n",
    "    'recall': 0.8,\n",
    "    'f1_score': 0.77,\n",
    "    'specificity': 0.78,\n",
    "}\n",
    "\n",
    "bicscore_model = {\n",
    "    'accuracy': 0.84,\n",
    "    'precision': 0.86,\n",
    "    'recall': 0.79,\n",
    "    'f1_score': 0.82,\n",
    "    'specificity': 0.89,\n",
    "}\n",
    "\n",
    "othergroup_model = {\n",
    "    'accuracy': 0.82,\n",
    "    'precision': 0.82,\n",
    "    'recall': 0.79,\n",
    "    'f1_score': 0.8,\n",
    "    'specificity': 0.85,\n",
    "}\n",
    "\n",
    "metrics = [original_model, restrictions_model, k2score_model, bicscore_model, othergroup_model]\n",
    "\n",
    "models = ['original', 'restrictions', 'k2score', 'bicscore', 'othergroup']\n",
    "\n",
    "df_comparison = pd.DataFrame(metrics, index=[models])"
   ]
  },
  {
   "cell_type": "code",
   "execution_count": 6,
   "metadata": {},
   "outputs": [
    {
     "data": {
      "text/html": [
       "<div>\n",
       "<style scoped>\n",
       "    .dataframe tbody tr th:only-of-type {\n",
       "        vertical-align: middle;\n",
       "    }\n",
       "\n",
       "    .dataframe tbody tr th {\n",
       "        vertical-align: top;\n",
       "    }\n",
       "\n",
       "    .dataframe thead th {\n",
       "        text-align: right;\n",
       "    }\n",
       "</style>\n",
       "<table border=\"1\" class=\"dataframe\">\n",
       "  <thead>\n",
       "    <tr style=\"text-align: right;\">\n",
       "      <th></th>\n",
       "      <th>accuracy</th>\n",
       "      <th>precision</th>\n",
       "      <th>recall</th>\n",
       "      <th>f1_score</th>\n",
       "      <th>specificity</th>\n",
       "    </tr>\n",
       "  </thead>\n",
       "  <tbody>\n",
       "    <tr>\n",
       "      <th>original</th>\n",
       "      <td>0.76</td>\n",
       "      <td>0.74</td>\n",
       "      <td>0.75</td>\n",
       "      <td>0.74</td>\n",
       "      <td>0.77</td>\n",
       "    </tr>\n",
       "    <tr>\n",
       "      <th>restrictions</th>\n",
       "      <td>0.75</td>\n",
       "      <td>0.76</td>\n",
       "      <td>0.67</td>\n",
       "      <td>0.70</td>\n",
       "      <td>0.80</td>\n",
       "    </tr>\n",
       "    <tr>\n",
       "      <th>k2score</th>\n",
       "      <td>0.79</td>\n",
       "      <td>0.75</td>\n",
       "      <td>0.80</td>\n",
       "      <td>0.77</td>\n",
       "      <td>0.78</td>\n",
       "    </tr>\n",
       "    <tr>\n",
       "      <th>bicscore</th>\n",
       "      <td>0.84</td>\n",
       "      <td>0.86</td>\n",
       "      <td>0.79</td>\n",
       "      <td>0.82</td>\n",
       "      <td>0.89</td>\n",
       "    </tr>\n",
       "    <tr>\n",
       "      <th>othergroup</th>\n",
       "      <td>0.82</td>\n",
       "      <td>0.82</td>\n",
       "      <td>0.79</td>\n",
       "      <td>0.80</td>\n",
       "      <td>0.85</td>\n",
       "    </tr>\n",
       "  </tbody>\n",
       "</table>\n",
       "</div>"
      ],
      "text/plain": [
       "              accuracy  precision  recall  f1_score  specificity\n",
       "original          0.76       0.74    0.75      0.74         0.77\n",
       "restrictions      0.75       0.76    0.67      0.70         0.80\n",
       "k2score           0.79       0.75    0.80      0.77         0.78\n",
       "bicscore          0.84       0.86    0.79      0.82         0.89\n",
       "othergroup        0.82       0.82    0.79      0.80         0.85"
      ]
     },
     "execution_count": 6,
     "metadata": {},
     "output_type": "execute_result"
    }
   ],
   "source": [
    "df_comparison"
   ]
  },
  {
   "cell_type": "code",
   "execution_count": 60,
   "metadata": {},
   "outputs": [
    {
     "data": {
      "image/png": "[encoded data removed]",
      "text/plain": [
       "<Figure size 432x288 with 1 Axes>"
      ]
     },
     "metadata": {
      "needs_background": "light"
     },
     "output_type": "display_data"
    }
   ],
   "source": [
    "# Create color map based on row index\n",
    "cmap = plt.get_cmap('tab10')\n",
    "colors = [cmap(i) for i in range(len(df_comparison))]\n",
    "\n",
    "# Create plot\n",
    "fig, ax =plt.subplots()\n",
    "\n",
    "# Ax limits\n",
    "plt.xlim(0, 1)\n",
    "plt.ylim(0, 1)\n",
    "\n",
    "# Lines for guide\n",
    "ax.axvline(x=0.5, color='silver', linestyle='--')\n",
    "ax.axhline(y=0.5, color='silver', linestyle='--')\n",
    "x = [0, 1]\n",
    "y = [0, 1]\n",
    "ax.plot(x, y, color='silver', linestyle='--')\n",
    "\n",
    "\n",
    "# Graph points\n",
    "cont = 0\n",
    "for i, row in df_comparison.iterrows():\n",
    "    ax.scatter(1-row['specificity'], row['recall'], color=colors[cont], label=i[0])\n",
    "    cont += 1\n",
    "\n",
    "# Add text for each point\n",
    "cont = 0\n",
    "for i, txt in enumerate(df_comparison.index):\n",
    "    if txt[0] == 'bicscore':\n",
    "        ax.annotate(txt[0], (1-df_comparison['specificity'][i]-0.1, df_comparison['recall'][i]-0.09), color=colors[cont])\n",
    "    elif txt[0] == 'othergroup':\n",
    "        ax.annotate(txt[0], (1-df_comparison['specificity'][i]-0.03, df_comparison['recall'][i]+0.07), color=colors[cont])\n",
    "    else:\n",
    "        ax.annotate(txt[0], (1-df_comparison['specificity'][i]+0.05, df_comparison['recall'][i]-0.01), color=colors[cont])\n",
    "    cont += 1\n",
    "\n",
    "plt.xlabel(\"1 - Specificity\")\n",
    "plt.ylabel(\"Recall\")\n",
    "plt.show()"
   ]
  },
  {
   "cell_type": "code",
   "execution_count": 73,
   "metadata": {},
   "outputs": [
    {
     "data": {
      "image/png": "[encoded data removed]",
      "text/plain": [
       "<Figure size 432x288 with 1 Axes>"
      ]
     },
     "metadata": {
      "needs_background": "light"
     },
     "output_type": "display_data"
    }
   ],
   "source": [
    "# Create color map based on row index\n",
    "cmap = plt.get_cmap('tab10')\n",
    "colors = [cmap(i) for i in range(len(df_comparison))]\n",
    "\n",
    "# Create plot\n",
    "fig, ax =plt.subplots()\n",
    "\n",
    "# Ax limits\n",
    "plt.xlim(0, 1)\n",
    "plt.ylim(0, 1)\n",
    "\n",
    "# Lines for guide\n",
    "ax.axvline(x=0.5, color='silver', linestyle='--')\n",
    "ax.axhline(y=0.5, color='silver', linestyle='--')\n",
    "x = [0, 1]\n",
    "y = [1, 0]\n",
    "ax.plot(x, y, color='silver', linestyle='--')\n",
    "\n",
    "\n",
    "# Graph points\n",
    "cont = 0\n",
    "for i, row in df_comparison.iterrows():\n",
    "    ax.scatter(row['specificity'], row['recall'], color=colors[cont], label=i[0])\n",
    "    cont += 1\n",
    "\n",
    "# Add text for each point\n",
    "cont = 0\n",
    "for i, txt in enumerate(df_comparison.index):\n",
    "    if txt[0] == 'bicscore':\n",
    "        ax.annotate(txt[0], (df_comparison['specificity'][i]-0.02, df_comparison['recall'][i]-0.09), color=colors[cont])\n",
    "    elif txt[0] == 'othergroup':\n",
    "        ax.annotate(txt[0], (df_comparison['specificity'][i]-0.03, df_comparison['recall'][i]+0.07), color=colors[cont])\n",
    "    else:\n",
    "        ax.annotate(txt[0], (df_comparison['specificity'][i]-0.2, df_comparison['recall'][i]-0.01), color=colors[cont])\n",
    "    cont += 1\n",
    "\n",
    "plt.xlabel(\"Specificity\")\n",
    "plt.ylabel(\"Recall\")\n",
    "plt.show()"
   ]
  }
 ],
 "metadata": {
  "kernelspec": {
   "display_name": "Python 3",
   "language": "python",
   "name": "python3"
  },
  "language_info": {
   "codemirror_mode": {
    "name": "ipython",
    "version": 3
   },
   "file_extension": ".py",
   "mimetype": "text/x-python",
   "name": "python",
   "nbconvert_exporter": "python",
   "pygments_lexer": "ipython3",
   "version": "3.10.6"
  },
  "orig_nbformat": 4
 },
 "nbformat": 4,
 "nbformat_minor": 2
}
