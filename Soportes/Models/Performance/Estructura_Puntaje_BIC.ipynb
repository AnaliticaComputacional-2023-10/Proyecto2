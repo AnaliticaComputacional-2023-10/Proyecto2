{
 "cells": [
  {
   "cell_type": "markdown",
   "metadata": {},
   "source": [
    "# Proyecto 2\n",
    "\n",
    "**Tema:** Predicción de enfermedades Cardíacas\n",
    "\n",
    "\n",
    "|     Nombres      |      Apellidos       |     Login     |  Codigo   |\n",
    "| :--------------: | :------------------: | :-----------: | :-------: |\n",
    "|     Santiago     | Gonzalez Montealegre | s.gonzalez35  | 202012274 |\n",
    "| Juliana Carolina |  Cardenas Barragan   | jc.cardenasb1 | 202011683 |\n"
   ]
  },
  {
   "attachments": {},
   "cell_type": "markdown",
   "metadata": {},
   "source": [
    "## Medidas de Desempeño - Estructura - Puntajes - BIC"
   ]
  },
  {
   "cell_type": "markdown",
   "metadata": {},
   "source": [
    "## K-Fold Cross Validation"
   ]
  },
  {
   "cell_type": "markdown",
   "metadata": {},
   "source": [
    "## Librerías Requeridas"
   ]
  },
  {
   "cell_type": "code",
   "execution_count": 1,
   "metadata": {},
   "outputs": [],
   "source": [
    "import pandas as pd\n",
    "from pgmpy.estimators import HillClimbSearch\n",
    "from pgmpy.estimators import BicScore\n",
    "from pgmpy.models import BayesianNetwork\n",
    "from pgmpy.estimators import MaximumLikelihoodEstimator\n",
    "from pgmpy.inference import VariableElimination\n",
    "from sklearn.model_selection import KFold\n",
    "import matplotlib.pyplot as plt"
   ]
  },
  {
   "cell_type": "markdown",
   "metadata": {},
   "source": [
    "## Carga de Datos"
   ]
  },
  {
   "cell_type": "code",
   "execution_count": 2,
   "metadata": {},
   "outputs": [],
   "source": [
    "df = pd.read_csv(\"../../../Data/Transformed/Discrete.csv\")"
   ]
  },
  {
   "cell_type": "markdown",
   "metadata": {},
   "source": [
    "## K-Fold"
   ]
  },
  {
   "cell_type": "code",
   "execution_count": 3,
   "metadata": {},
   "outputs": [],
   "source": [
    "variables = [column for column in list(df.columns) if column != 'heartdis']\n",
    "\n",
    "X = df[variables].values\n",
    "y = df['heartdis'].values\n",
    "\n",
    "kf = KFold(n_splits=4, shuffle=True, random_state=1)\n",
    "\n",
    "splits = list(kf.split(X))"
   ]
  },
  {
   "cell_type": "markdown",
   "metadata": {},
   "source": [
    "## Test"
   ]
  },
  {
   "cell_type": "code",
   "execution_count": 4,
   "metadata": {},
   "outputs": [],
   "source": [
    "def inferenceEvidence(evidence, model):\n",
    "    \n",
    "    infer = VariableElimination(model)\n",
    "\n",
    "    prob = infer.query(variables=['heartdis'], evidence=evidence)\n",
    "    \n",
    "    return prob.values.tolist()"
   ]
  },
  {
   "cell_type": "code",
   "execution_count": 5,
   "metadata": {},
   "outputs": [],
   "source": [
    "def getEvidence(nodes, row):\n",
    "    \n",
    "    evidence = {}\n",
    "    for node in nodes:\n",
    "        if node != 'heartdis':\n",
    "            evidence[node] = (row[node])\n",
    "    \n",
    "    return evidence"
   ]
  },
  {
   "cell_type": "code",
   "execution_count": 6,
   "metadata": {},
   "outputs": [],
   "source": [
    "def getClassification(probs):\n",
    "    cero = probs[0]\n",
    "    one = probs[1]\n",
    "    if cero >= one:\n",
    "        result = 0\n",
    "    else:\n",
    "        result = 1\n",
    "        \n",
    "    return result"
   ]
  },
  {
   "cell_type": "code",
   "execution_count": 7,
   "metadata": {},
   "outputs": [],
   "source": [
    "def getMetrics(df_test):\n",
    "    \n",
    "    # confussion_matrix = [[None, None],[None, None]]\n",
    "    \n",
    "    metrics = {'TN': None, 'FP': None, 'FN': None, 'TP': None}\n",
    "    \n",
    "    df_needed = df_test[['heartdis', 'test']]\n",
    "    \n",
    "    true_negatives_df = df_needed[(df_needed['heartdis'] == df_needed['test']) & (df_needed['test'] == 0)]\n",
    "    true_negatives = true_negatives_df['test'].count()\n",
    "    \n",
    "    false_positives_df = df_needed[(df_needed['heartdis'] != df_needed['test']) & (df_needed['test'] == 1)]\n",
    "    false_positives = false_positives_df['test'].count()\n",
    "    \n",
    "    false_negatives_df = df_needed[(df_needed['heartdis'] != df_needed['test']) & (df_needed['test'] == 0)]\n",
    "    false_negatives = false_negatives_df['test'].count()\n",
    "    \n",
    "    \n",
    "    true_positives_df = df_needed[(df_needed['heartdis'] == df_needed['test']) & (df_needed['test'] == 1)]\n",
    "    true_positives = true_positives_df['test'].count()\n",
    "    \n",
    "    metrics['TN'] = true_negatives\n",
    "    metrics['FP'] = false_positives\n",
    "    metrics['FN'] = false_negatives\n",
    "    metrics['TP'] = true_positives\n",
    "    \n",
    "    return metrics"
   ]
  },
  {
   "cell_type": "code",
   "execution_count": 8,
   "metadata": {},
   "outputs": [],
   "source": [
    "def trainModel(df_train):\n",
    "    scoring_method = BicScore(data=df_train)\n",
    "    esth = HillClimbSearch(data=df_train)\n",
    "\n",
    "    estimated_model_bic = esth.estimate(\n",
    "        scoring_method=scoring_method,\n",
    "        max_indegree=4,\n",
    "        max_iter=int(1e4)\n",
    "    )\n",
    "    \n",
    "    model = BayesianNetwork(estimated_model_bic)\n",
    "    model.fit(data=df, estimator=MaximumLikelihoodEstimator)    \n",
    "        \n",
    "    return model"
   ]
  },
  {
   "cell_type": "code",
   "execution_count": 9,
   "metadata": {},
   "outputs": [
    {
     "data": {
      "application/vnd.jupyter.widget-view+json": {
       "model_id": "1b804f94252846eda867ca91cbca7aad",
       "version_major": 2,
       "version_minor": 0
      },
      "text/plain": [
       "  0%|          | 0/10000 [00:00<?, ?it/s]"
      ]
     },
     "metadata": {},
     "output_type": "display_data"
    },
    {
     "data": {
      "application/vnd.jupyter.widget-view+json": {
       "model_id": "991866d906b34655afdd8cff1046c016",
       "version_major": 2,
       "version_minor": 0
      },
      "text/plain": [
       "  0%|          | 0/10000 [00:00<?, ?it/s]"
      ]
     },
     "metadata": {},
     "output_type": "display_data"
    },
    {
     "data": {
      "application/vnd.jupyter.widget-view+json": {
       "model_id": "7f4347ceb5de42b1ba4dbae20932f203",
       "version_major": 2,
       "version_minor": 0
      },
      "text/plain": [
       "  0%|          | 0/10000 [00:00<?, ?it/s]"
      ]
     },
     "metadata": {},
     "output_type": "display_data"
    },
    {
     "data": {
      "application/vnd.jupyter.widget-view+json": {
       "model_id": "5f3eb62cbae14b8a8a081120ea33557c",
       "version_major": 2,
       "version_minor": 0
      },
      "text/plain": [
       "  0%|          | 0/10000 [00:00<?, ?it/s]"
      ]
     },
     "metadata": {},
     "output_type": "display_data"
    }
   ],
   "source": [
    "# Iterate over the K-Fold\n",
    "\n",
    "kfold_metrics = []\n",
    "for train_index, test_index in splits:\n",
    "    \n",
    "    # Get the Train and Test set\n",
    "    \n",
    "    X_train = X[train_index]\n",
    "    y_train = y[train_index]\n",
    "    \n",
    "    X_test = X[test_index]\n",
    "    y_test = y[test_index]\n",
    "    \n",
    "    df_train = pd.DataFrame(X_train, columns=variables)\n",
    "    df_train['heartdis'] = y_train\n",
    "\n",
    "    df_test = pd.DataFrame(X_test, columns=variables)\n",
    "    df_test['heartdis'] = y_test\n",
    "    \n",
    "    # Train the Model\n",
    "    \n",
    "    model = trainModel(df_train)\n",
    "    \n",
    "    nodes = model.nodes    \n",
    "    \n",
    "    # Test the model\n",
    "    \n",
    "    test = []\n",
    "    for i in range(0, len(df_test)):\n",
    "        row = df_test.iloc[i]\n",
    "        evidence = getEvidence(nodes=nodes, row=row)\n",
    "        probs = inferenceEvidence(evidence, model)\n",
    "        classification = getClassification(probs)\n",
    "        test.append(classification)\n",
    "\n",
    "    df_test['test'] = test\n",
    "    \n",
    "    metrics = getMetrics(df_test)\n",
    "    \n",
    "    kfold_metrics.append(metrics)\n",
    "\n",
    "df_performance = pd.DataFrame(kfold_metrics)\n",
    "\n",
    "df_performance['accuracy'] = (df_performance['TN'] + df_performance['TP']) / (df_performance['TN'] + df_performance['FP'] + df_performance['FN'] + df_performance['TP'])\n",
    "df_performance['precision'] = (df_performance['TP']) / (df_performance['FP'] + df_performance['TP'])\n",
    "df_performance['recall'] = (df_performance['TP']) / (df_performance['FN'] + df_performance['TP'])\n",
    "df_performance['f1_score'] = 2 * (df_performance['precision'] * df_performance['recall']) / (df_performance['precision'] + df_performance['recall'])\n",
    "df_performance['specificity'] = (df_performance['TN']) / (df_performance['TN'] + df_performance['FP'])"
   ]
  },
  {
   "cell_type": "code",
   "execution_count": 10,
   "metadata": {},
   "outputs": [
    {
     "data": {
      "text/html": [
       "<div>\n",
       "<style scoped>\n",
       "    .dataframe tbody tr th:only-of-type {\n",
       "        vertical-align: middle;\n",
       "    }\n",
       "\n",
       "    .dataframe tbody tr th {\n",
       "        vertical-align: top;\n",
       "    }\n",
       "\n",
       "    .dataframe thead th {\n",
       "        text-align: right;\n",
       "    }\n",
       "</style>\n",
       "<table border=\"1\" class=\"dataframe\">\n",
       "  <thead>\n",
       "    <tr style=\"text-align: right;\">\n",
       "      <th></th>\n",
       "      <th>TN</th>\n",
       "      <th>FP</th>\n",
       "      <th>FN</th>\n",
       "      <th>TP</th>\n",
       "      <th>accuracy</th>\n",
       "      <th>precision</th>\n",
       "      <th>recall</th>\n",
       "      <th>f1_score</th>\n",
       "      <th>specificity</th>\n",
       "    </tr>\n",
       "  </thead>\n",
       "  <tbody>\n",
       "    <tr>\n",
       "      <th>0</th>\n",
       "      <td>35</td>\n",
       "      <td>6</td>\n",
       "      <td>7</td>\n",
       "      <td>28</td>\n",
       "      <td>0.828947</td>\n",
       "      <td>0.823529</td>\n",
       "      <td>0.800000</td>\n",
       "      <td>0.811594</td>\n",
       "      <td>0.853659</td>\n",
       "    </tr>\n",
       "    <tr>\n",
       "      <th>1</th>\n",
       "      <td>40</td>\n",
       "      <td>5</td>\n",
       "      <td>6</td>\n",
       "      <td>25</td>\n",
       "      <td>0.855263</td>\n",
       "      <td>0.833333</td>\n",
       "      <td>0.806452</td>\n",
       "      <td>0.819672</td>\n",
       "      <td>0.888889</td>\n",
       "    </tr>\n",
       "    <tr>\n",
       "      <th>2</th>\n",
       "      <td>33</td>\n",
       "      <td>4</td>\n",
       "      <td>10</td>\n",
       "      <td>29</td>\n",
       "      <td>0.815789</td>\n",
       "      <td>0.878788</td>\n",
       "      <td>0.743590</td>\n",
       "      <td>0.805556</td>\n",
       "      <td>0.891892</td>\n",
       "    </tr>\n",
       "    <tr>\n",
       "      <th>3</th>\n",
       "      <td>38</td>\n",
       "      <td>3</td>\n",
       "      <td>6</td>\n",
       "      <td>28</td>\n",
       "      <td>0.880000</td>\n",
       "      <td>0.903226</td>\n",
       "      <td>0.823529</td>\n",
       "      <td>0.861538</td>\n",
       "      <td>0.926829</td>\n",
       "    </tr>\n",
       "  </tbody>\n",
       "</table>\n",
       "</div>"
      ],
      "text/plain": [
       "   TN  FP  FN  TP  accuracy  precision    recall  f1_score  specificity\n",
       "0  35   6   7  28  0.828947   0.823529  0.800000  0.811594     0.853659\n",
       "1  40   5   6  25  0.855263   0.833333  0.806452  0.819672     0.888889\n",
       "2  33   4  10  29  0.815789   0.878788  0.743590  0.805556     0.891892\n",
       "3  38   3   6  28  0.880000   0.903226  0.823529  0.861538     0.926829"
      ]
     },
     "execution_count": 10,
     "metadata": {},
     "output_type": "execute_result"
    }
   ],
   "source": [
    "df_performance"
   ]
  },
  {
   "cell_type": "code",
   "execution_count": 11,
   "metadata": {},
   "outputs": [
    {
     "name": "stdout",
     "output_type": "stream",
     "text": [
      "accuracy: \t 0.84\n",
      "precision: \t 0.86\n",
      "recall: \t 0.79\n",
      "f1_score: \t 0.82\n",
      "specificity: \t 0.89\n"
     ]
    }
   ],
   "source": [
    "accuracy = df_performance['accuracy'].mean()\n",
    "precision = df_performance['precision'].mean()\n",
    "recall = df_performance['recall'].mean()\n",
    "f1_score = df_performance['f1_score'].mean()\n",
    "specificity = df_performance['specificity'].mean()\n",
    "\n",
    "print(f'accuracy: \\t {round(accuracy, 2)}')\n",
    "print(f'precision: \\t {round(precision, 2)}')\n",
    "print(f'recall: \\t {round(recall, 2)}')\n",
    "print(f'f1_score: \\t {round(f1_score, 2)}')\n",
    "print(f'specificity: \\t {round(specificity, 2)}')"
   ]
  },
  {
   "cell_type": "code",
   "execution_count": 12,
   "metadata": {},
   "outputs": [
    {
     "data": {
      "image/png": "[encoded data removed]",
      "text/plain": [
       "<Figure size 432x288 with 1 Axes>"
      ]
     },
     "metadata": {
      "needs_background": "light"
     },
     "output_type": "display_data"
    }
   ],
   "source": [
    "# Create plot\n",
    "fig, ax =plt.subplots()\n",
    "\n",
    "# Ax limits\n",
    "plt.xlim(0, 1)\n",
    "plt.ylim(0, 1)\n",
    "\n",
    "# Lines for guide\n",
    "ax.axvline(x=0.5, color='silver', linestyle='--')\n",
    "ax.axhline(y=0.5, color='silver', linestyle='--')\n",
    "x = [0, 1]\n",
    "y = [0, 1]\n",
    "ax.plot(x, y, color='silver', linestyle='--')\n",
    "\n",
    "ax.scatter(1-specificity, recall)\n",
    "\n",
    "plt.xlabel(\"1 - Specificity\")\n",
    "plt.ylabel(\"Recall\")\n",
    "plt.show()"
   ]
  },
  {
   "cell_type": "code",
   "execution_count": 13,
   "metadata": {},
   "outputs": [
    {
     "data": {
      "image/png": "[encoded data removed]",
      "text/plain": [
       "<Figure size 432x288 with 1 Axes>"
      ]
     },
     "metadata": {
      "needs_background": "light"
     },
     "output_type": "display_data"
    }
   ],
   "source": [
    "# Create plot\n",
    "fig, ax =plt.subplots()\n",
    "\n",
    "# Ax limits\n",
    "plt.xlim(0, 1)\n",
    "plt.ylim(0, 1)\n",
    "\n",
    "# Lines for guide\n",
    "ax.axvline(x=0.5, color='silver', linestyle='--')\n",
    "ax.axhline(y=0.5, color='silver', linestyle='--')\n",
    "x = [0, 1]\n",
    "y = [1, 0]\n",
    "ax.plot(x, y, color='silver', linestyle='--')\n",
    "\n",
    "ax.scatter(specificity, recall)\n",
    "\n",
    "plt.xlabel(\"Specificity\")\n",
    "plt.ylabel(\"Recall\")\n",
    "plt.show()"
   ]
  }
 ],
 "metadata": {
  "kernelspec": {
   "display_name": "Python 3",
   "language": "python",
   "name": "python3"
  },
  "language_info": {
   "codemirror_mode": {
    "name": "ipython",
    "version": 3
   },
   "file_extension": ".py",
   "mimetype": "text/x-python",
   "name": "python",
   "nbconvert_exporter": "python",
   "pygments_lexer": "ipython3",
   "version": "3.10.6"
  },
  "orig_nbformat": 4
 },
 "nbformat": 4,
 "nbformat_minor": 2
}
