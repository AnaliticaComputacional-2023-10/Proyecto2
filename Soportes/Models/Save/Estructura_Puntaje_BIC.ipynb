{
 "cells": [
  {
   "cell_type": "markdown",
   "metadata": {},
   "source": [
    "# Proyecto 2\n",
    "\n",
    "**Tema:** Predicción de enfermedades Cardíacas\n",
    "\n",
    "\n",
    "|     Nombres      |      Apellidos       |     Login     |  Codigo   |\n",
    "| :--------------: | :------------------: | :-----------: | :-------: |\n",
    "|     Santiago     | Gonzalez Montealegre | s.gonzalez35  | 202012274 |\n",
    "| Juliana Carolina |  Cardenas Barragan   | jc.cardenasb1 | 202011683 |\n"
   ]
  },
  {
   "attachments": {},
   "cell_type": "markdown",
   "metadata": {},
   "source": [
    "## Modelo - Aprendizaje de Estructura - Puntajes - BIC"
   ]
  },
  {
   "cell_type": "markdown",
   "metadata": {},
   "source": [
    "## Librerías Requeridas"
   ]
  },
  {
   "cell_type": "code",
   "execution_count": 1,
   "metadata": {},
   "outputs": [],
   "source": [
    "import pandas as pd\n",
    "from pgmpy.estimators import HillClimbSearch\n",
    "from pgmpy.estimators import BicScore\n",
    "import networkx as nx\n",
    "import matplotlib.pyplot as plt\n",
    "from pgmpy.models import BayesianNetwork\n",
    "from pgmpy.estimators import MaximumLikelihoodEstimator\n",
    "from pgmpy.readwrite import BIFWriter"
   ]
  },
  {
   "cell_type": "markdown",
   "metadata": {},
   "source": [
    "## Carga de Datos"
   ]
  },
  {
   "cell_type": "code",
   "execution_count": 2,
   "metadata": {},
   "outputs": [],
   "source": [
    "df = pd.read_csv(\"../../../Data/Transformed/Discrete.csv\")"
   ]
  },
  {
   "cell_type": "markdown",
   "metadata": {},
   "source": [
    "## BIC Score"
   ]
  },
  {
   "cell_type": "markdown",
   "metadata": {},
   "source": [
    "### Estimación Estructura"
   ]
  },
  {
   "cell_type": "code",
   "execution_count": 3,
   "metadata": {},
   "outputs": [
    {
     "data": {
      "application/vnd.jupyter.widget-view+json": {
       "model_id": "05203e2024434133b08ca8d323953b68",
       "version_major": 2,
       "version_minor": 0
      },
      "text/plain": [
       "  0%|          | 0/10000 [00:00<?, ?it/s]"
      ]
     },
     "metadata": {},
     "output_type": "display_data"
    }
   ],
   "source": [
    "scoring_method = BicScore(data=df)\n",
    "esth = HillClimbSearch(data=df)\n",
    "\n",
    "estimated_model_bic = esth.estimate(\n",
    "    scoring_method=scoring_method,\n",
    "    max_indegree=4,\n",
    "    max_iter=int(1e4)\n",
    ")"
   ]
  },
  {
   "cell_type": "code",
   "execution_count": 4,
   "metadata": {},
   "outputs": [
    {
     "name": "stdout",
     "output_type": "stream",
     "text": [
      "DAG with 14 nodes and 11 edges\n",
      "['age', 'sex', 'cp', 'trestbps', 'chol', 'fbs', 'restecg', 'thalach', 'exang', 'oldpeak', 'slope', 'ca', 'thal', 'heartdis']\n",
      "[('cp', 'exang'), ('thalach', 'age'), ('exang', 'thalach'), ('slope', 'oldpeak'), ('slope', 'thalach'), ('thal', 'heartdis'), ('thal', 'sex'), ('heartdis', 'cp'), ('heartdis', 'ca'), ('heartdis', 'slope'), ('heartdis', 'chol')]\n"
     ]
    }
   ],
   "source": [
    "print(estimated_model_bic)\n",
    "print(estimated_model_bic.nodes())\n",
    "print(estimated_model_bic.edges())"
   ]
  },
  {
   "cell_type": "code",
   "execution_count": 5,
   "metadata": {},
   "outputs": [
    {
     "data": {
      "image/png": "[encoded data removed]",
      "text/plain": [
       "<Figure size 432x288 with 1 Axes>"
      ]
     },
     "metadata": {},
     "output_type": "display_data"
    }
   ],
   "source": [
    "nodes = list(estimated_model_bic.nodes())\n",
    "edges = list(estimated_model_bic.edges())\n",
    "\n",
    "# Create Graph\n",
    "G = nx.DiGraph()\n",
    "\n",
    "# Add Nodes\n",
    "for node in nodes:\n",
    "    G.add_node(node)\n",
    "    \n",
    "# Add Edges\n",
    "for edge in edges:\n",
    "    G.add_edge(edge[0], edge[1])\n",
    "    \n",
    "# Draw Graph\n",
    "pos = nx.spring_layout(G)\n",
    "nx.draw(G, with_labels=True, node_size=1000, arrows=True)\n",
    "plt.show()"
   ]
  },
  {
   "cell_type": "code",
   "execution_count": 6,
   "metadata": {},
   "outputs": [
    {
     "name": "stdout",
     "output_type": "stream",
     "text": [
      "-3493.1878296798955\n"
     ]
    }
   ],
   "source": [
    "print(scoring_method.score(estimated_model_bic))"
   ]
  },
  {
   "cell_type": "markdown",
   "metadata": {},
   "source": [
    "### Red Bayesiana"
   ]
  },
  {
   "cell_type": "code",
   "execution_count": 7,
   "metadata": {},
   "outputs": [],
   "source": [
    "model = BayesianNetwork(estimated_model_bic)\n",
    "model.fit(data=df, estimator=MaximumLikelihoodEstimator)"
   ]
  },
  {
   "cell_type": "code",
   "execution_count": 8,
   "metadata": {},
   "outputs": [
    {
     "name": "stdout",
     "output_type": "stream",
     "text": [
      "+---------+---------------------+---------------------+\n",
      "| thalach | thalach(1)          | thalach(2)          |\n",
      "+---------+---------------------+---------------------+\n",
      "| age(1)  | 0.16556291390728478 | 0.32894736842105265 |\n",
      "+---------+---------------------+---------------------+\n",
      "| age(2)  | 0.2052980132450331  | 0.29605263157894735 |\n",
      "+---------+---------------------+---------------------+\n",
      "| age(3)  | 0.25165562913907286 | 0.23026315789473684 |\n",
      "+---------+---------------------+---------------------+\n",
      "| age(4)  | 0.37748344370860926 | 0.14473684210526316 |\n",
      "+---------+---------------------+---------------------+\n",
      "+--------+---------------------+---------------------+--------------------+\n",
      "| thal   | thal(3)             | thal(6)             | thal(7)            |\n",
      "+--------+---------------------+---------------------+--------------------+\n",
      "| sex(0) | 0.48214285714285715 | 0.05555555555555555 | 0.1282051282051282 |\n",
      "+--------+---------------------+---------------------+--------------------+\n",
      "| sex(1) | 0.5178571428571429  | 0.9444444444444444  | 0.8717948717948718 |\n",
      "+--------+---------------------+---------------------+--------------------+\n",
      "+----------+---------------------+----------------------+\n",
      "| heartdis | heartdis(0)         | heartdis(1)          |\n",
      "+----------+---------------------+----------------------+\n",
      "| cp(1)    | 0.0975609756097561  | 0.050359712230215826 |\n",
      "+----------+---------------------+----------------------+\n",
      "| cp(2)    | 0.25                | 0.06474820143884892  |\n",
      "+----------+---------------------+----------------------+\n",
      "| cp(3)    | 0.4146341463414634  | 0.12949640287769784  |\n",
      "+----------+---------------------+----------------------+\n",
      "| cp(4)    | 0.23780487804878048 | 0.7553956834532374   |\n",
      "+----------+---------------------+----------------------+\n",
      "+-------------+----------+\n",
      "| trestbps(1) | 0.564356 |\n",
      "+-------------+----------+\n",
      "| trestbps(2) | 0.435644 |\n",
      "+-------------+----------+\n",
      "+----------+---------------------+--------------------+\n",
      "| heartdis | heartdis(0)         | heartdis(1)        |\n",
      "+----------+---------------------+--------------------+\n",
      "| chol(1)  | 0.6158536585365854  | 0.4676258992805755 |\n",
      "+----------+---------------------+--------------------+\n",
      "| chol(2)  | 0.38414634146341464 | 0.5323741007194245 |\n",
      "+----------+---------------------+--------------------+\n",
      "+--------+----------+\n",
      "| fbs(0) | 0.851485 |\n",
      "+--------+----------+\n",
      "| fbs(1) | 0.148515 |\n",
      "+--------+----------+\n",
      "+------------+-----------+\n",
      "| restecg(0) | 0.49835   |\n",
      "+------------+-----------+\n",
      "| restecg(1) | 0.0132013 |\n",
      "+------------+-----------+\n",
      "| restecg(2) | 0.488449  |\n",
      "+------------+-----------+\n",
      "+------------+---------------------+-----+----------+--------------------+\n",
      "| exang      | exang(0)            | ... | exang(1) | exang(1)           |\n",
      "+------------+---------------------+-----+----------+--------------------+\n",
      "| slope      | slope(1)            | ... | slope(2) | slope(3)           |\n",
      "+------------+---------------------+-----+----------+--------------------+\n",
      "| thalach(1) | 0.22413793103448276 | ... | 0.90625  | 0.7777777777777778 |\n",
      "+------------+---------------------+-----+----------+--------------------+\n",
      "| thalach(2) | 0.7758620689655172  | ... | 0.09375  | 0.2222222222222222 |\n",
      "+------------+---------------------+-----+----------+--------------------+\n",
      "+----------+---------------------+-----+--------------------+\n",
      "| cp       | cp(1)               | ... | cp(4)              |\n",
      "+----------+---------------------+-----+--------------------+\n",
      "| exang(0) | 0.8260869565217391  | ... | 0.4444444444444444 |\n",
      "+----------+---------------------+-----+--------------------+\n",
      "| exang(1) | 0.17391304347826086 | ... | 0.5555555555555556 |\n",
      "+----------+---------------------+-----+--------------------+\n",
      "+------------+---------------------+-----+----------------------+\n",
      "| slope      | slope(1)            | ... | slope(3)             |\n",
      "+------------+---------------------+-----+----------------------+\n",
      "| oldpeak(1) | 0.6901408450704225  | ... | 0.047619047619047616 |\n",
      "+------------+---------------------+-----+----------------------+\n",
      "| oldpeak(2) | 0.13380281690140844 | ... | 0.09523809523809523  |\n",
      "+------------+---------------------+-----+----------------------+\n",
      "| oldpeak(3) | 0.08450704225352113 | ... | 0.14285714285714285  |\n",
      "+------------+---------------------+-----+----------------------+\n",
      "| oldpeak(4) | 0.07042253521126761 | ... | 0.047619047619047616 |\n",
      "+------------+---------------------+-----+----------------------+\n",
      "| oldpeak(5) | 0.02112676056338028 | ... | 0.6666666666666666   |\n",
      "+------------+---------------------+-----+----------------------+\n",
      "+----------+----------------------+---------------------+\n",
      "| heartdis | heartdis(0)          | heartdis(1)         |\n",
      "+----------+----------------------+---------------------+\n",
      "| slope(1) | 0.6463414634146342   | 0.2589928057553957  |\n",
      "+----------+----------------------+---------------------+\n",
      "| slope(2) | 0.29878048780487804  | 0.6546762589928058  |\n",
      "+----------+----------------------+---------------------+\n",
      "| slope(3) | 0.054878048780487805 | 0.08633093525179857 |\n",
      "+----------+----------------------+---------------------+\n",
      "+----------+----------------------+---------------------+\n",
      "| heartdis | heartdis(0)          | heartdis(1)         |\n",
      "+----------+----------------------+---------------------+\n",
      "| ca(0)    | 0.8109756097560976   | 0.3381294964028777  |\n",
      "+----------+----------------------+---------------------+\n",
      "| ca(1)    | 0.12804878048780488  | 0.31654676258992803 |\n",
      "+----------+----------------------+---------------------+\n",
      "| ca(2)    | 0.042682926829268296 | 0.22302158273381295 |\n",
      "+----------+----------------------+---------------------+\n",
      "| ca(3)    | 0.018292682926829267 | 0.1223021582733813  |\n",
      "+----------+----------------------+---------------------+\n",
      "+---------+-----------+\n",
      "| thal(3) | 0.554455  |\n",
      "+---------+-----------+\n",
      "| thal(6) | 0.0594059 |\n",
      "+---------+-----------+\n",
      "| thal(7) | 0.386139  |\n",
      "+---------+-----------+\n",
      "+-------------+--------------------+--------------------+---------------------+\n",
      "| thal        | thal(3)            | thal(6)            | thal(7)             |\n",
      "+-------------+--------------------+--------------------+---------------------+\n",
      "| heartdis(0) | 0.7738095238095238 | 0.3333333333333333 | 0.23931623931623933 |\n",
      "+-------------+--------------------+--------------------+---------------------+\n",
      "| heartdis(1) | 0.2261904761904762 | 0.6666666666666666 | 0.7606837606837606  |\n",
      "+-------------+--------------------+--------------------+---------------------+\n"
     ]
    }
   ],
   "source": [
    "for i in model.nodes():\n",
    "    print(model.get_cpds(i))"
   ]
  },
  {
   "cell_type": "markdown",
   "metadata": {},
   "source": [
    "### Guardar Modelo"
   ]
  },
  {
   "cell_type": "code",
   "execution_count": 9,
   "metadata": {},
   "outputs": [],
   "source": [
    "writer = BIFWriter(model)\n",
    "writer.write_bif('../../../Data/Models/Estructura_Puntaje_BIC.bif')"
   ]
  }
 ],
 "metadata": {
  "kernelspec": {
   "display_name": "Python 3",
   "language": "python",
   "name": "python3"
  },
  "language_info": {
   "codemirror_mode": {
    "name": "ipython",
    "version": 3
   },
   "file_extension": ".py",
   "mimetype": "text/x-python",
   "name": "python",
   "nbconvert_exporter": "python",
   "pygments_lexer": "ipython3",
   "version": "3.10.6"
  },
  "orig_nbformat": 4
 },
 "nbformat": 4,
 "nbformat_minor": 2
}
