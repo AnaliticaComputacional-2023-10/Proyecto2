{
 "cells": [
  {
   "cell_type": "markdown",
   "metadata": {},
   "source": [
    "# Proyecto 2\n",
    "\n",
    "**Tema:** Predicción de enfermedades Cardíacas\n",
    "\n",
    "\n",
    "|     Nombres      |      Apellidos       |     Login     |  Codigo   |\n",
    "| :--------------: | :------------------: | :-----------: | :-------: |\n",
    "|     Santiago     | Gonzalez Montealegre | s.gonzalez35  | 202012274 |\n",
    "| Juliana Carolina |  Cardenas Barragan   | jc.cardenasb1 | 202011683 |\n"
   ]
  },
  {
   "attachments": {},
   "cell_type": "markdown",
   "metadata": {},
   "source": [
    "## Modelo - Aprendizaje de Estructura - Restricciones"
   ]
  },
  {
   "cell_type": "markdown",
   "metadata": {},
   "source": [
    "## Librerías Requeridas"
   ]
  },
  {
   "cell_type": "code",
   "execution_count": 1,
   "metadata": {},
   "outputs": [],
   "source": [
    "import pandas as pd\n",
    "import networkx as nx\n",
    "import matplotlib.pyplot as plt\n",
    "from pgmpy.estimators import PC\n",
    "from pgmpy.models import BayesianNetwork\n",
    "from pgmpy.estimators import MaximumLikelihoodEstimator\n",
    "from pgmpy.readwrite import BIFWriter"
   ]
  },
  {
   "cell_type": "markdown",
   "metadata": {},
   "source": [
    "## Carga de Datos"
   ]
  },
  {
   "cell_type": "code",
   "execution_count": 2,
   "metadata": {},
   "outputs": [],
   "source": [
    "df = pd.read_csv(\"../../../Data/Transformed/Discrete.csv\")"
   ]
  },
  {
   "attachments": {},
   "cell_type": "markdown",
   "metadata": {},
   "source": [
    "## Estimación Estructura"
   ]
  },
  {
   "cell_type": "code",
   "execution_count": 3,
   "metadata": {},
   "outputs": [
    {
     "data": {
      "application/vnd.jupyter.widget-view+json": {
       "model_id": "b8c75d2add1f4e379b9eb40cb3c3cde5",
       "version_major": 2,
       "version_minor": 0
      },
      "text/plain": [
       "  0%|          | 0/10 [00:00<?, ?it/s]"
      ]
     },
     "metadata": {},
     "output_type": "display_data"
    }
   ],
   "source": [
    "est = PC(data=df)\n",
    "estimated_model = est.estimate(variant=\"stable\", max_cond_vars=10)"
   ]
  },
  {
   "cell_type": "code",
   "execution_count": 4,
   "metadata": {},
   "outputs": [
    {
     "name": "stdout",
     "output_type": "stream",
     "text": [
      "DAG with 10 nodes and 8 edges\n",
      "['age', 'ca', 'heartdis', 'sex', 'thal', 'slope', 'thalach', 'cp', 'exang', 'oldpeak']\n",
      "[('age', 'ca'), ('heartdis', 'ca'), ('heartdis', 'thal'), ('thal', 'sex'), ('slope', 'oldpeak'), ('thalach', 'slope'), ('cp', 'heartdis'), ('exang', 'cp')]\n"
     ]
    }
   ],
   "source": [
    "print(estimated_model)\n",
    "print(estimated_model.nodes())\n",
    "print(estimated_model.edges())"
   ]
  },
  {
   "cell_type": "code",
   "execution_count": 5,
   "metadata": {},
   "outputs": [
    {
     "data": {
      "image/png": "[encoded data removed]",
      "text/plain": [
       "<Figure size 432x288 with 1 Axes>"
      ]
     },
     "metadata": {},
     "output_type": "display_data"
    }
   ],
   "source": [
    "nodes = list(estimated_model.nodes())\n",
    "edges = list(estimated_model.edges())\n",
    "\n",
    "# Create Graph\n",
    "G = nx.DiGraph()\n",
    "\n",
    "# Add Nodes\n",
    "for node in nodes:\n",
    "    G.add_node(node)\n",
    "    \n",
    "# Add Edges\n",
    "for edge in edges:\n",
    "    G.add_edge(edge[0], edge[1])\n",
    "    \n",
    "# Draw Graph\n",
    "pos = nx.spring_layout(G)\n",
    "nx.draw(G, with_labels=True, node_size=1000, arrows=True)\n",
    "plt.show()"
   ]
  },
  {
   "attachments": {},
   "cell_type": "markdown",
   "metadata": {},
   "source": [
    "## Red Bayesiana"
   ]
  },
  {
   "cell_type": "code",
   "execution_count": 6,
   "metadata": {},
   "outputs": [],
   "source": [
    "model = BayesianNetwork(estimated_model)\n",
    "model.fit(data=df, estimator=MaximumLikelihoodEstimator)"
   ]
  },
  {
   "cell_type": "code",
   "execution_count": 7,
   "metadata": {},
   "outputs": [
    {
     "name": "stdout",
     "output_type": "stream",
     "text": [
      "+--------+----------+\n",
      "| age(1) | 0.247525 |\n",
      "+--------+----------+\n",
      "| age(2) | 0.250825 |\n",
      "+--------+----------+\n",
      "| age(3) | 0.240924 |\n",
      "+--------+----------+\n",
      "| age(4) | 0.260726 |\n",
      "+--------+----------+\n",
      "+----------+----------------------+-----+---------------------+\n",
      "| age      | age(1)               | ... | age(4)              |\n",
      "+----------+----------------------+-----+---------------------+\n",
      "| heartdis | heartdis(0)          | ... | heartdis(1)         |\n",
      "+----------+----------------------+-----+---------------------+\n",
      "| ca(0)    | 0.9259259259259259   | ... | 0.22727272727272727 |\n",
      "+----------+----------------------+-----+---------------------+\n",
      "| ca(1)    | 0.05555555555555555  | ... | 0.2727272727272727  |\n",
      "+----------+----------------------+-----+---------------------+\n",
      "| ca(2)    | 0.018518518518518517 | ... | 0.2727272727272727  |\n",
      "+----------+----------------------+-----+---------------------+\n",
      "| ca(3)    | 0.0                  | ... | 0.22727272727272727 |\n",
      "+----------+----------------------+-----+---------------------+\n",
      "+-------------+---------------------+-----+--------------------+\n",
      "| cp          | cp(1)               | ... | cp(4)              |\n",
      "+-------------+---------------------+-----+--------------------+\n",
      "| heartdis(0) | 0.6956521739130435  | ... | 0.2708333333333333 |\n",
      "+-------------+---------------------+-----+--------------------+\n",
      "| heartdis(1) | 0.30434782608695654 | ... | 0.7291666666666666 |\n",
      "+-------------+---------------------+-----+--------------------+\n",
      "+--------+---------------------+---------------------+--------------------+\n",
      "| thal   | thal(3)             | thal(6)             | thal(7)            |\n",
      "+--------+---------------------+---------------------+--------------------+\n",
      "| sex(0) | 0.48214285714285715 | 0.05555555555555555 | 0.1282051282051282 |\n",
      "+--------+---------------------+---------------------+--------------------+\n",
      "| sex(1) | 0.5178571428571429  | 0.9444444444444444  | 0.8717948717948718 |\n",
      "+--------+---------------------+---------------------+--------------------+\n",
      "+----------+----------------------+---------------------+\n",
      "| heartdis | heartdis(0)          | heartdis(1)         |\n",
      "+----------+----------------------+---------------------+\n",
      "| thal(3)  | 0.7926829268292683   | 0.2733812949640288  |\n",
      "+----------+----------------------+---------------------+\n",
      "| thal(6)  | 0.036585365853658534 | 0.08633093525179857 |\n",
      "+----------+----------------------+---------------------+\n",
      "| thal(7)  | 0.17073170731707318  | 0.6402877697841727  |\n",
      "+----------+----------------------+---------------------+\n",
      "+----------+---------------------+----------------------+\n",
      "| thalach  | thalach(1)          | thalach(2)           |\n",
      "+----------+---------------------+----------------------+\n",
      "| slope(1) | 0.23841059602649006 | 0.6973684210526315   |\n",
      "+----------+---------------------+----------------------+\n",
      "| slope(2) | 0.6688741721854304  | 0.2565789473684211   |\n",
      "+----------+---------------------+----------------------+\n",
      "| slope(3) | 0.09271523178807947 | 0.046052631578947366 |\n",
      "+----------+---------------------+----------------------+\n",
      "+------------+---------+\n",
      "| thalach(1) | 0.49835 |\n",
      "+------------+---------+\n",
      "| thalach(2) | 0.50165 |\n",
      "+------------+---------+\n",
      "+-------+---------------------+---------------------+\n",
      "| exang | exang(0)            | exang(1)            |\n",
      "+-------+---------------------+---------------------+\n",
      "| cp(1) | 0.09313725490196079 | 0.04040404040404041 |\n",
      "+-------+---------------------+---------------------+\n",
      "| cp(2) | 0.22549019607843138 | 0.04040404040404041 |\n",
      "+-------+---------------------+---------------------+\n",
      "| cp(3) | 0.36764705882352944 | 0.1111111111111111  |\n",
      "+-------+---------------------+---------------------+\n",
      "| cp(4) | 0.3137254901960784  | 0.8080808080808081  |\n",
      "+-------+---------------------+---------------------+\n",
      "+----------+----------+\n",
      "| exang(0) | 0.673267 |\n",
      "+----------+----------+\n",
      "| exang(1) | 0.326733 |\n",
      "+----------+----------+\n",
      "+------------+---------------------+-----+----------------------+\n",
      "| slope      | slope(1)            | ... | slope(3)             |\n",
      "+------------+---------------------+-----+----------------------+\n",
      "| oldpeak(1) | 0.6901408450704225  | ... | 0.047619047619047616 |\n",
      "+------------+---------------------+-----+----------------------+\n",
      "| oldpeak(2) | 0.13380281690140844 | ... | 0.09523809523809523  |\n",
      "+------------+---------------------+-----+----------------------+\n",
      "| oldpeak(3) | 0.08450704225352113 | ... | 0.14285714285714285  |\n",
      "+------------+---------------------+-----+----------------------+\n",
      "| oldpeak(4) | 0.07042253521126761 | ... | 0.047619047619047616 |\n",
      "+------------+---------------------+-----+----------------------+\n",
      "| oldpeak(5) | 0.02112676056338028 | ... | 0.6666666666666666   |\n",
      "+------------+---------------------+-----+----------------------+\n"
     ]
    }
   ],
   "source": [
    "for i in model.nodes():\n",
    "    print(model.get_cpds(i))"
   ]
  },
  {
   "cell_type": "markdown",
   "metadata": {},
   "source": [
    "## Guardar Modelo"
   ]
  },
  {
   "cell_type": "code",
   "execution_count": 9,
   "metadata": {},
   "outputs": [],
   "source": [
    "writer = BIFWriter(model)\n",
    "writer.write_bif('../../../Data/Models/Estructura_Restricciones.bif')"
   ]
  }
 ],
 "metadata": {
  "kernelspec": {
   "display_name": "Python 3",
   "language": "python",
   "name": "python3"
  },
  "language_info": {
   "codemirror_mode": {
    "name": "ipython",
    "version": 3
   },
   "file_extension": ".py",
   "mimetype": "text/x-python",
   "name": "python",
   "nbconvert_exporter": "python",
   "pygments_lexer": "ipython3",
   "version": "3.10.6"
  },
  "orig_nbformat": 4
 },
 "nbformat": 4,
 "nbformat_minor": 2
}
