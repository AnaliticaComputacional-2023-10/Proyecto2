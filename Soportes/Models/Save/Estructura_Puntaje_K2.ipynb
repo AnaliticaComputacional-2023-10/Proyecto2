{
 "cells": [
  {
   "cell_type": "markdown",
   "metadata": {},
   "source": [
    "# Proyecto 2\n",
    "\n",
    "**Tema:** Predicción de enfermedades Cardíacas\n",
    "\n",
    "\n",
    "|     Nombres      |      Apellidos       |     Login     |  Codigo   |\n",
    "| :--------------: | :------------------: | :-----------: | :-------: |\n",
    "|     Santiago     | Gonzalez Montealegre | s.gonzalez35  | 202012274 |\n",
    "| Juliana Carolina |  Cardenas Barragan   | jc.cardenasb1 | 202011683 |\n"
   ]
  },
  {
   "attachments": {},
   "cell_type": "markdown",
   "metadata": {},
   "source": [
    "## Modelo - Aprendizaje de Estructura - Puntajes - K2"
   ]
  },
  {
   "cell_type": "markdown",
   "metadata": {},
   "source": [
    "## Librerías Requeridas"
   ]
  },
  {
   "cell_type": "code",
   "execution_count": 1,
   "metadata": {},
   "outputs": [],
   "source": [
    "import pandas as pd\n",
    "from pgmpy.estimators import HillClimbSearch\n",
    "from pgmpy.estimators import K2Score\n",
    "import networkx as nx\n",
    "import matplotlib.pyplot as plt\n",
    "from pgmpy.models import BayesianNetwork\n",
    "from pgmpy.estimators import MaximumLikelihoodEstimator\n",
    "from pgmpy.readwrite import BIFWriter"
   ]
  },
  {
   "cell_type": "markdown",
   "metadata": {},
   "source": [
    "## Carga de Datos"
   ]
  },
  {
   "cell_type": "code",
   "execution_count": 2,
   "metadata": {},
   "outputs": [],
   "source": [
    "df = pd.read_csv(\"../../../Data/Transformed/Discrete.csv\")"
   ]
  },
  {
   "attachments": {},
   "cell_type": "markdown",
   "metadata": {},
   "source": [
    "## K2 Score"
   ]
  },
  {
   "attachments": {},
   "cell_type": "markdown",
   "metadata": {},
   "source": [
    "### Estimación Estructura"
   ]
  },
  {
   "cell_type": "code",
   "execution_count": 3,
   "metadata": {},
   "outputs": [
    {
     "data": {
      "application/vnd.jupyter.widget-view+json": {
       "model_id": "4a7117be5b234cae98fd909f2d3f317d",
       "version_major": 2,
       "version_minor": 0
      },
      "text/plain": [
       "  0%|          | 0/10000 [00:00<?, ?it/s]"
      ]
     },
     "metadata": {},
     "output_type": "display_data"
    }
   ],
   "source": [
    "scoring_method = K2Score(data=df)\n",
    "esth = HillClimbSearch(data=df)\n",
    "\n",
    "estimated_model_k2 = esth.estimate(\n",
    "    scoring_method=scoring_method,\n",
    "    max_indegree=4,\n",
    "    max_iter=int(1e4)\n",
    ")"
   ]
  },
  {
   "cell_type": "code",
   "execution_count": 4,
   "metadata": {},
   "outputs": [
    {
     "name": "stdout",
     "output_type": "stream",
     "text": [
      "DAG with 14 nodes and 22 edges\n",
      "['age', 'sex', 'cp', 'trestbps', 'chol', 'fbs', 'restecg', 'thalach', 'exang', 'oldpeak', 'slope', 'ca', 'thal', 'heartdis']\n",
      "[('sex', 'chol'), ('sex', 'heartdis'), ('cp', 'trestbps'), ('trestbps', 'age'), ('restecg', 'chol'), ('restecg', 'thalach'), ('exang', 'thalach'), ('exang', 'chol'), ('exang', 'trestbps'), ('exang', 'cp'), ('slope', 'oldpeak'), ('slope', 'thalach'), ('ca', 'age'), ('thal', 'heartdis'), ('thal', 'sex'), ('heartdis', 'cp'), ('heartdis', 'ca'), ('heartdis', 'slope'), ('heartdis', 'exang'), ('heartdis', 'oldpeak'), ('heartdis', 'chol'), ('heartdis', 'restecg')]\n"
     ]
    }
   ],
   "source": [
    "print(estimated_model_k2)\n",
    "print(estimated_model_k2.nodes())\n",
    "print(estimated_model_k2.edges())"
   ]
  },
  {
   "cell_type": "code",
   "execution_count": 5,
   "metadata": {},
   "outputs": [
    {
     "data": {
      "image/png": "[encoded data removed]",
      "text/plain": [
       "<Figure size 432x288 with 1 Axes>"
      ]
     },
     "metadata": {},
     "output_type": "display_data"
    }
   ],
   "source": [
    "nodes = list(estimated_model_k2.nodes())\n",
    "edges = list(estimated_model_k2.edges())\n",
    "\n",
    "# Create Graph\n",
    "G = nx.DiGraph()\n",
    "\n",
    "# Add Nodes\n",
    "for node in nodes:\n",
    "    G.add_node(node)\n",
    "    \n",
    "# Add Edges\n",
    "for edge in edges:\n",
    "    G.add_edge(edge[0], edge[1])\n",
    "    \n",
    "# Draw Graph\n",
    "pos = nx.spring_layout(G)\n",
    "nx.draw(G, with_labels=True, node_size=1000, arrows=True)\n",
    "plt.show()"
   ]
  },
  {
   "cell_type": "code",
   "execution_count": 6,
   "metadata": {},
   "outputs": [
    {
     "name": "stdout",
     "output_type": "stream",
     "text": [
      "-3418.81522161635\n"
     ]
    }
   ],
   "source": [
    "print(scoring_method.score(estimated_model_k2))"
   ]
  },
  {
   "attachments": {},
   "cell_type": "markdown",
   "metadata": {},
   "source": [
    "### Red Bayesiana"
   ]
  },
  {
   "cell_type": "code",
   "execution_count": 7,
   "metadata": {},
   "outputs": [],
   "source": [
    "model = BayesianNetwork(estimated_model_k2)\n",
    "model.fit(data=df, estimator=MaximumLikelihoodEstimator)"
   ]
  },
  {
   "cell_type": "code",
   "execution_count": 8,
   "metadata": {},
   "outputs": [
    {
     "name": "stdout",
     "output_type": "stream",
     "text": [
      "+----------+---------------------+-----+-------------+-------------+\n",
      "| ca       | ca(0)               | ... | ca(3)       | ca(3)       |\n",
      "+----------+---------------------+-----+-------------+-------------+\n",
      "| trestbps | trestbps(1)         | ... | trestbps(1) | trestbps(2) |\n",
      "+----------+---------------------+-----+-------------+-------------+\n",
      "| age(1)   | 0.46153846153846156 | ... | 0.0         | 0.1         |\n",
      "+----------+---------------------+-----+-------------+-------------+\n",
      "| age(2)   | 0.27884615384615385 | ... | 0.4         | 0.1         |\n",
      "+----------+---------------------+-----+-------------+-------------+\n",
      "| age(3)   | 0.14423076923076922 | ... | 0.2         | 0.1         |\n",
      "+----------+---------------------+-----+-------------+-------------+\n",
      "| age(4)   | 0.11538461538461539 | ... | 0.4         | 0.7         |\n",
      "+----------+---------------------+-----+-------------+-------------+\n",
      "+--------+---------------------+---------------------+--------------------+\n",
      "| thal   | thal(3)             | thal(6)             | thal(7)            |\n",
      "+--------+---------------------+---------------------+--------------------+\n",
      "| sex(0) | 0.48214285714285715 | 0.05555555555555555 | 0.1282051282051282 |\n",
      "+--------+---------------------+---------------------+--------------------+\n",
      "| sex(1) | 0.5178571428571429  | 0.9444444444444444  | 0.8717948717948718 |\n",
      "+--------+---------------------+---------------------+--------------------+\n",
      "+----------+---------------------+-----+----------------------+\n",
      "| exang    | exang(0)            | ... | exang(1)             |\n",
      "+----------+---------------------+-----+----------------------+\n",
      "| heartdis | heartdis(0)         | ... | heartdis(1)          |\n",
      "+----------+---------------------+-----+----------------------+\n",
      "| cp(1)    | 0.09219858156028368 | ... | 0.013157894736842105 |\n",
      "+----------+---------------------+-----+----------------------+\n",
      "| cp(2)    | 0.2695035460992908  | ... | 0.013157894736842105 |\n",
      "+----------+---------------------+-----+----------------------+\n",
      "| cp(3)    | 0.4326241134751773  | ... | 0.05263157894736842  |\n",
      "+----------+---------------------+-----+----------------------+\n",
      "| cp(4)    | 0.20567375886524822 | ... | 0.9210526315789473   |\n",
      "+----------+---------------------+-----+----------------------+\n",
      "+-------------+---------------------+-----+----------+----------+\n",
      "| cp          | cp(1)               | ... | cp(4)    | cp(4)    |\n",
      "+-------------+---------------------+-----+----------+----------+\n",
      "| exang       | exang(0)            | ... | exang(0) | exang(1) |\n",
      "+-------------+---------------------+-----+----------+----------+\n",
      "| trestbps(1) | 0.21052631578947367 | ... | 0.578125 | 0.5125   |\n",
      "+-------------+---------------------+-----+----------+----------+\n",
      "| trestbps(2) | 0.7894736842105263  | ... | 0.421875 | 0.4875   |\n",
      "+-------------+---------------------+-----+----------+----------+\n",
      "+----------+---------------------+-----+---------------------+\n",
      "| exang    | exang(0)            | ... | exang(1)            |\n",
      "+----------+---------------------+-----+---------------------+\n",
      "| heartdis | heartdis(0)         | ... | heartdis(1)         |\n",
      "+----------+---------------------+-----+---------------------+\n",
      "| restecg  | restecg(0)          | ... | restecg(2)          |\n",
      "+----------+---------------------+-----+---------------------+\n",
      "| sex      | sex(0)              | ... | sex(1)              |\n",
      "+----------+---------------------+-----+---------------------+\n",
      "| chol(1)  | 0.6578947368421053  | ... | 0.40540540540540543 |\n",
      "+----------+---------------------+-----+---------------------+\n",
      "| chol(2)  | 0.34210526315789475 | ... | 0.5945945945945946  |\n",
      "+----------+---------------------+-----+---------------------+\n",
      "+--------+----------+\n",
      "| fbs(0) | 0.851485 |\n",
      "+--------+----------+\n",
      "| fbs(1) | 0.148515 |\n",
      "+--------+----------+\n",
      "+------------+----------------------+---------------------+\n",
      "| heartdis   | heartdis(0)          | heartdis(1)         |\n",
      "+------------+----------------------+---------------------+\n",
      "| restecg(0) | 0.5792682926829268   | 0.4028776978417266  |\n",
      "+------------+----------------------+---------------------+\n",
      "| restecg(1) | 0.006097560975609756 | 0.02158273381294964 |\n",
      "+------------+----------------------+---------------------+\n",
      "| restecg(2) | 0.4146341463414634   | 0.5755395683453237  |\n",
      "+------------+----------------------+---------------------+\n",
      "+------------+------------+-----+--------------------+\n",
      "| exang      | exang(0)   | ... | exang(1)           |\n",
      "+------------+------------+-----+--------------------+\n",
      "| restecg    | restecg(0) | ... | restecg(2)         |\n",
      "+------------+------------+-----+--------------------+\n",
      "| slope      | slope(1)   | ... | slope(3)           |\n",
      "+------------+------------+-----+--------------------+\n",
      "| thalach(1) | 0.2        | ... | 0.6666666666666666 |\n",
      "+------------+------------+-----+--------------------+\n",
      "| thalach(2) | 0.8        | ... | 0.3333333333333333 |\n",
      "+------------+------------+-----+--------------------+\n",
      "+----------+--------------------+---------------------+\n",
      "| heartdis | heartdis(0)        | heartdis(1)         |\n",
      "+----------+--------------------+---------------------+\n",
      "| exang(0) | 0.8597560975609756 | 0.45323741007194246 |\n",
      "+----------+--------------------+---------------------+\n",
      "| exang(1) | 0.1402439024390244 | 0.5467625899280576  |\n",
      "+----------+--------------------+---------------------+\n",
      "+------------+----------------------+-----+---------------------+\n",
      "| heartdis   | heartdis(0)          | ... | heartdis(1)         |\n",
      "+------------+----------------------+-----+---------------------+\n",
      "| slope      | slope(1)             | ... | slope(3)            |\n",
      "+------------+----------------------+-----+---------------------+\n",
      "| oldpeak(1) | 0.7075471698113207   | ... | 0.0                 |\n",
      "+------------+----------------------+-----+---------------------+\n",
      "| oldpeak(2) | 0.1320754716981132   | ... | 0.0                 |\n",
      "+------------+----------------------+-----+---------------------+\n",
      "| oldpeak(3) | 0.08490566037735849  | ... | 0.08333333333333333 |\n",
      "+------------+----------------------+-----+---------------------+\n",
      "| oldpeak(4) | 0.0660377358490566   | ... | 0.08333333333333333 |\n",
      "+------------+----------------------+-----+---------------------+\n",
      "| oldpeak(5) | 0.009433962264150943 | ... | 0.8333333333333334  |\n",
      "+------------+----------------------+-----+---------------------+\n",
      "+----------+----------------------+---------------------+\n",
      "| heartdis | heartdis(0)          | heartdis(1)         |\n",
      "+----------+----------------------+---------------------+\n",
      "| slope(1) | 0.6463414634146342   | 0.2589928057553957  |\n",
      "+----------+----------------------+---------------------+\n",
      "| slope(2) | 0.29878048780487804  | 0.6546762589928058  |\n",
      "+----------+----------------------+---------------------+\n",
      "| slope(3) | 0.054878048780487805 | 0.08633093525179857 |\n",
      "+----------+----------------------+---------------------+\n",
      "+----------+----------------------+---------------------+\n",
      "| heartdis | heartdis(0)          | heartdis(1)         |\n",
      "+----------+----------------------+---------------------+\n",
      "| ca(0)    | 0.8109756097560976   | 0.3381294964028777  |\n",
      "+----------+----------------------+---------------------+\n",
      "| ca(1)    | 0.12804878048780488  | 0.31654676258992803 |\n",
      "+----------+----------------------+---------------------+\n",
      "| ca(2)    | 0.042682926829268296 | 0.22302158273381295 |\n",
      "+----------+----------------------+---------------------+\n",
      "| ca(3)    | 0.018292682926829267 | 0.1223021582733813  |\n",
      "+----------+----------------------+---------------------+\n",
      "+---------+-----------+\n",
      "| thal(3) | 0.554455  |\n",
      "+---------+-----------+\n",
      "| thal(6) | 0.0594059 |\n",
      "+---------+-----------+\n",
      "| thal(7) | 0.386139  |\n",
      "+---------+-----------+\n",
      "+-------------+---------------------+-----+--------------------+\n",
      "| sex         | sex(0)              | ... | sex(1)             |\n",
      "+-------------+---------------------+-----+--------------------+\n",
      "| thal        | thal(3)             | ... | thal(7)            |\n",
      "+-------------+---------------------+-----+--------------------+\n",
      "| heartdis(0) | 0.8641975308641975  | ... | 0.2549019607843137 |\n",
      "+-------------+---------------------+-----+--------------------+\n",
      "| heartdis(1) | 0.13580246913580246 | ... | 0.7450980392156863 |\n",
      "+-------------+---------------------+-----+--------------------+\n"
     ]
    }
   ],
   "source": [
    "for i in model.nodes():\n",
    "    print(model.get_cpds(i))"
   ]
  },
  {
   "attachments": {},
   "cell_type": "markdown",
   "metadata": {},
   "source": [
    "### Guardar Modelo"
   ]
  },
  {
   "cell_type": "code",
   "execution_count": 9,
   "metadata": {},
   "outputs": [],
   "source": [
    "writer = BIFWriter(model)\n",
    "writer.write_bif('../../../Data/Models/Estructura_Puntaje_K2.bif')"
   ]
  }
 ],
 "metadata": {
  "kernelspec": {
   "display_name": "Python 3",
   "language": "python",
   "name": "python3"
  },
  "language_info": {
   "codemirror_mode": {
    "name": "ipython",
    "version": 3
   },
   "file_extension": ".py",
   "mimetype": "text/x-python",
   "name": "python",
   "nbconvert_exporter": "python",
   "pygments_lexer": "ipython3",
   "version": "3.10.6"
  },
  "orig_nbformat": 4
 },
 "nbformat": 4,
 "nbformat_minor": 2
}
